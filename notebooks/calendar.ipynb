{
 "cells": [
  {
   "cell_type": "code",
   "execution_count": 1,
   "metadata": {},
   "outputs": [],
   "source": [
    "import warnings\n",
    "import pandas as pd\n",
    "import sys\n",
    "import os\n",
    "module_path = os.path.abspath(os.path.join(\"..\"))\n",
    "if module_path not in sys.path:\n",
    "    sys.path.append(module_path+\"\\\\python\")\n",
    "from plot import *\n",
    "\n",
    "# hide warnings\n",
    "warnings.filterwarnings(\"ignore\")\n",
    "\n",
    "# show all rows and columns\n",
    "pd.set_option(\"display.max_rows\", None)\n",
    "pd.set_option(\"display.max_columns\", None)"
   ]
  },
  {
   "cell_type": "markdown",
   "metadata": {},
   "source": [
    "#### Load listings data set and hold specific columns"
   ]
  },
  {
   "cell_type": "code",
   "execution_count": 2,
   "metadata": {},
   "outputs": [
    {
     "data": {
      "text/plain": [
       "(4159030, 3)"
      ]
     },
     "metadata": {},
     "output_type": "display_data"
    },
    {
     "data": {
      "text/html": [
       "<div>\n",
       "<style scoped>\n",
       "    .dataframe tbody tr th:only-of-type {\n",
       "        vertical-align: middle;\n",
       "    }\n",
       "\n",
       "    .dataframe tbody tr th {\n",
       "        vertical-align: top;\n",
       "    }\n",
       "\n",
       "    .dataframe thead th {\n",
       "        text-align: right;\n",
       "    }\n",
       "</style>\n",
       "<table border=\"1\" class=\"dataframe\">\n",
       "  <thead>\n",
       "    <tr style=\"text-align: right;\">\n",
       "      <th></th>\n",
       "      <th>listing_id</th>\n",
       "      <th>date</th>\n",
       "      <th>price</th>\n",
       "    </tr>\n",
       "  </thead>\n",
       "  <tbody>\n",
       "    <tr>\n",
       "      <td>0</td>\n",
       "      <td>138386</td>\n",
       "      <td>2020-05-18</td>\n",
       "      <td>$55.00</td>\n",
       "    </tr>\n",
       "    <tr>\n",
       "      <td>1</td>\n",
       "      <td>10595</td>\n",
       "      <td>2020-05-18</td>\n",
       "      <td>$60.00</td>\n",
       "    </tr>\n",
       "    <tr>\n",
       "      <td>2</td>\n",
       "      <td>10595</td>\n",
       "      <td>2020-05-19</td>\n",
       "      <td>$60.00</td>\n",
       "    </tr>\n",
       "    <tr>\n",
       "      <td>3</td>\n",
       "      <td>10595</td>\n",
       "      <td>2020-05-20</td>\n",
       "      <td>$60.00</td>\n",
       "    </tr>\n",
       "    <tr>\n",
       "      <td>4</td>\n",
       "      <td>10595</td>\n",
       "      <td>2020-05-21</td>\n",
       "      <td>$60.00</td>\n",
       "    </tr>\n",
       "  </tbody>\n",
       "</table>\n",
       "</div>"
      ],
      "text/plain": [
       "   listing_id        date   price\n",
       "0      138386  2020-05-18  $55.00\n",
       "1       10595  2020-05-18  $60.00\n",
       "2       10595  2020-05-19  $60.00\n",
       "3       10595  2020-05-20  $60.00\n",
       "4       10595  2020-05-21  $60.00"
      ]
     },
     "metadata": {},
     "output_type": "display_data"
    }
   ],
   "source": [
    "from IPython.display import display\n",
    "\n",
    "# columns that we need\n",
    "columns = [ \"listing_id\", \"date\", \"price\" ]\n",
    "\n",
    "# load the data set\n",
    "calendar = pd.read_csv(\"../data_sets/calendar.csv\", usecols = columns)\n",
    "\n",
    "# display the data set\n",
    "display(calendar.shape, calendar.head(5))"
   ]
  },
  {
   "cell_type": "markdown",
   "metadata": {},
   "source": [
    "#### Drop all rows that have any nan value"
   ]
  },
  {
   "cell_type": "code",
   "execution_count": 3,
   "metadata": {},
   "outputs": [
    {
     "data": {
      "text/plain": [
       "(4150800, 3)"
      ]
     },
     "metadata": {},
     "output_type": "display_data"
    },
    {
     "data": {
      "text/html": [
       "<div>\n",
       "<style scoped>\n",
       "    .dataframe tbody tr th:only-of-type {\n",
       "        vertical-align: middle;\n",
       "    }\n",
       "\n",
       "    .dataframe tbody tr th {\n",
       "        vertical-align: top;\n",
       "    }\n",
       "\n",
       "    .dataframe thead th {\n",
       "        text-align: right;\n",
       "    }\n",
       "</style>\n",
       "<table border=\"1\" class=\"dataframe\">\n",
       "  <thead>\n",
       "    <tr style=\"text-align: right;\">\n",
       "      <th></th>\n",
       "      <th>listing_id</th>\n",
       "      <th>date</th>\n",
       "      <th>price</th>\n",
       "    </tr>\n",
       "  </thead>\n",
       "  <tbody>\n",
       "    <tr>\n",
       "      <td>0</td>\n",
       "      <td>138386</td>\n",
       "      <td>2020-05-18</td>\n",
       "      <td>$55.00</td>\n",
       "    </tr>\n",
       "    <tr>\n",
       "      <td>1</td>\n",
       "      <td>10595</td>\n",
       "      <td>2020-05-18</td>\n",
       "      <td>$60.00</td>\n",
       "    </tr>\n",
       "    <tr>\n",
       "      <td>2</td>\n",
       "      <td>10595</td>\n",
       "      <td>2020-05-19</td>\n",
       "      <td>$60.00</td>\n",
       "    </tr>\n",
       "    <tr>\n",
       "      <td>3</td>\n",
       "      <td>10595</td>\n",
       "      <td>2020-05-20</td>\n",
       "      <td>$60.00</td>\n",
       "    </tr>\n",
       "    <tr>\n",
       "      <td>4</td>\n",
       "      <td>10595</td>\n",
       "      <td>2020-05-21</td>\n",
       "      <td>$60.00</td>\n",
       "    </tr>\n",
       "  </tbody>\n",
       "</table>\n",
       "</div>"
      ],
      "text/plain": [
       "   listing_id        date   price\n",
       "0      138386  2020-05-18  $55.00\n",
       "1       10595  2020-05-18  $60.00\n",
       "2       10595  2020-05-19  $60.00\n",
       "3       10595  2020-05-20  $60.00\n",
       "4       10595  2020-05-21  $60.00"
      ]
     },
     "metadata": {},
     "output_type": "display_data"
    }
   ],
   "source": [
    "# drop rows\n",
    "calendar = calendar.dropna()\n",
    "\n",
    "# display the data set\n",
    "display(calendar.shape, calendar.head(5))"
   ]
  },
  {
   "cell_type": "markdown",
   "metadata": {},
   "source": [
    "#### Clean data"
   ]
  },
  {
   "cell_type": "code",
   "execution_count": 4,
   "metadata": {},
   "outputs": [
    {
     "data": {
      "text/plain": [
       "(4150800, 6)"
      ]
     },
     "metadata": {},
     "output_type": "display_data"
    },
    {
     "data": {
      "text/html": [
       "<div>\n",
       "<style scoped>\n",
       "    .dataframe tbody tr th:only-of-type {\n",
       "        vertical-align: middle;\n",
       "    }\n",
       "\n",
       "    .dataframe tbody tr th {\n",
       "        vertical-align: top;\n",
       "    }\n",
       "\n",
       "    .dataframe thead th {\n",
       "        text-align: right;\n",
       "    }\n",
       "</style>\n",
       "<table border=\"1\" class=\"dataframe\">\n",
       "  <thead>\n",
       "    <tr style=\"text-align: right;\">\n",
       "      <th></th>\n",
       "      <th>listing_id</th>\n",
       "      <th>date</th>\n",
       "      <th>price</th>\n",
       "      <th>year</th>\n",
       "      <th>month</th>\n",
       "      <th>day</th>\n",
       "    </tr>\n",
       "  </thead>\n",
       "  <tbody>\n",
       "    <tr>\n",
       "      <td>0</td>\n",
       "      <td>138386</td>\n",
       "      <td>2020-05-18</td>\n",
       "      <td>55.0</td>\n",
       "      <td>2020</td>\n",
       "      <td>05</td>\n",
       "      <td>18</td>\n",
       "    </tr>\n",
       "    <tr>\n",
       "      <td>1</td>\n",
       "      <td>10595</td>\n",
       "      <td>2020-05-18</td>\n",
       "      <td>60.0</td>\n",
       "      <td>2020</td>\n",
       "      <td>05</td>\n",
       "      <td>18</td>\n",
       "    </tr>\n",
       "    <tr>\n",
       "      <td>2</td>\n",
       "      <td>10595</td>\n",
       "      <td>2020-05-19</td>\n",
       "      <td>60.0</td>\n",
       "      <td>2020</td>\n",
       "      <td>05</td>\n",
       "      <td>19</td>\n",
       "    </tr>\n",
       "    <tr>\n",
       "      <td>3</td>\n",
       "      <td>10595</td>\n",
       "      <td>2020-05-20</td>\n",
       "      <td>60.0</td>\n",
       "      <td>2020</td>\n",
       "      <td>05</td>\n",
       "      <td>20</td>\n",
       "    </tr>\n",
       "    <tr>\n",
       "      <td>4</td>\n",
       "      <td>10595</td>\n",
       "      <td>2020-05-21</td>\n",
       "      <td>60.0</td>\n",
       "      <td>2020</td>\n",
       "      <td>05</td>\n",
       "      <td>21</td>\n",
       "    </tr>\n",
       "  </tbody>\n",
       "</table>\n",
       "</div>"
      ],
      "text/plain": [
       "   listing_id        date  price  year month day\n",
       "0      138386  2020-05-18   55.0  2020    05  18\n",
       "1       10595  2020-05-18   60.0  2020    05  18\n",
       "2       10595  2020-05-19   60.0  2020    05  19\n",
       "3       10595  2020-05-20   60.0  2020    05  20\n",
       "4       10595  2020-05-21   60.0  2020    05  21"
      ]
     },
     "metadata": {},
     "output_type": "display_data"
    }
   ],
   "source": [
    "# extract prices from the table\n",
    "price = calendar[\"price\"]\n",
    "prices=[]\n",
    "# clean the price and convert it to float\n",
    "for p in price:\n",
    "    get_price = p[1:]                     # remove '$'\n",
    "    get_price = get_price.replace(\",\",\"\") # remove ','\n",
    "    prices.append(float(get_price))       # string to float\n",
    "# replace the price column with the new float prices column\n",
    "calendar[\"price\"] = prices\n",
    "\n",
    "# separate the date column to year, month, day\n",
    "calendar[\"year\"], calendar[\"month\"], calendar[\"day\"] = calendar[\"date\"].str.split(\"-\",2).str\n",
    "\n",
    "# display the data set\n",
    "display(calendar.shape, calendar.head(5))"
   ]
  },
  {
   "cell_type": "markdown",
   "metadata": {},
   "source": [
    "#### Average Monthly Price per Year"
   ]
  },
  {
   "cell_type": "code",
   "execution_count": 5,
   "metadata": {
    "scrolled": false
   },
   "outputs": [
    {
     "data": {
      "image/png": "[encoded data removed]",
      "text/plain": [
       "<Figure size 1440x720 with 1 Axes>"
      ]
     },
     "metadata": {
      "needs_background": "light"
     },
     "output_type": "display_data"
    }
   ],
   "source": [
    "# group by month and year and calculate mean price\n",
    "month_per_year = calendar.groupby([\"year\", \"month\"]).price.mean()\n",
    "month_per_year = month_per_year.reset_index()\n",
    "month_per_year = month_per_year.rename(columns={\"price\":\"avg_price\"})\n",
    "month_per_year[\"year-month\"] = month_per_year[\"year\"] + \"-\" + month_per_year[\"month\"]\n",
    "#display(month_per_year)\n",
    "\n",
    "plot_bar(month_per_year,\"year-month\",\"avg_price\",\"Average Monthly Price per Year\",\n",
    "         \"Year-Month\",\"Average price\",\"purple\")"
   ]
  }
 ],
 "metadata": {
  "kernelspec": {
   "display_name": "Python 3",
   "language": "python",
   "name": "python3"
  },
  "language_info": {
   "codemirror_mode": {
    "name": "ipython",
    "version": 3
   },
   "file_extension": ".py",
   "mimetype": "text/x-python",
   "name": "python",
   "nbconvert_exporter": "python",
   "pygments_lexer": "ipython3",
   "version": "3.7.4"
  }
 },
 "nbformat": 4,
 "nbformat_minor": 2
}
