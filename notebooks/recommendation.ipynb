{
 "cells": [
  {
   "cell_type": "code",
   "execution_count": 1,
   "metadata": {},
   "outputs": [],
   "source": [
    "import warnings\n",
    "import pandas as pd\n",
    "import sys\n",
    "import os\n",
    "module_path = os.path.abspath(os.path.join(\"..\"))\n",
    "if module_path not in sys.path:\n",
    "    sys.path.append(module_path+\"\\\\python\")\n",
    "from utilities import *\n",
    "from preprocessing import *\n",
    "\n",
    "# hide warnings\n",
    "warnings.filterwarnings(\"ignore\")\n",
    "\n",
    "# show all rows and columns\n",
    "pd.set_option(\"display.max_rows\", None)\n",
    "pd.set_option(\"display.max_columns\", None)"
   ]
  },
  {
   "cell_type": "markdown",
   "metadata": {},
   "source": [
    "#### Load listings data set and hold specific columns"
   ]
  },
  {
   "cell_type": "code",
   "execution_count": 2,
   "metadata": {},
   "outputs": [
    {
     "data": {
      "text/plain": [
       "(11393, 3)"
      ]
     },
     "metadata": {},
     "output_type": "display_data"
    },
    {
     "data": {
      "text/html": [
       "<div>\n",
       "<style scoped>\n",
       "    .dataframe tbody tr th:only-of-type {\n",
       "        vertical-align: middle;\n",
       "    }\n",
       "\n",
       "    .dataframe tbody tr th {\n",
       "        vertical-align: top;\n",
       "    }\n",
       "\n",
       "    .dataframe thead th {\n",
       "        text-align: right;\n",
       "    }\n",
       "</style>\n",
       "<table border=\"1\" class=\"dataframe\">\n",
       "  <thead>\n",
       "    <tr style=\"text-align: right;\">\n",
       "      <th></th>\n",
       "      <th>id</th>\n",
       "      <th>name</th>\n",
       "      <th>description</th>\n",
       "    </tr>\n",
       "  </thead>\n",
       "  <tbody>\n",
       "    <tr>\n",
       "      <td>0</td>\n",
       "      <td>10595</td>\n",
       "      <td>96m2, 3BR, 2BA, Metro, WI-FI etc...</td>\n",
       "      <td>Athens Furnished Apartment No6 is 3-bedroom ap...</td>\n",
       "    </tr>\n",
       "    <tr>\n",
       "      <td>1</td>\n",
       "      <td>10990</td>\n",
       "      <td>Athens Quality Apartments - Deluxe Apartment</td>\n",
       "      <td>Athens Quality Apartments - Deluxe apartment i...</td>\n",
       "    </tr>\n",
       "    <tr>\n",
       "      <td>2</td>\n",
       "      <td>10993</td>\n",
       "      <td>Athens Quality Apartments - Studio</td>\n",
       "      <td>The Studio is an  -excellent located  -close t...</td>\n",
       "    </tr>\n",
       "    <tr>\n",
       "      <td>3</td>\n",
       "      <td>10995</td>\n",
       "      <td>47m2, close to metro,cable TV,wi-fi</td>\n",
       "      <td>AQA No2 is 1-bedroom apartment (47m2)  -excell...</td>\n",
       "    </tr>\n",
       "    <tr>\n",
       "      <td>4</td>\n",
       "      <td>27262</td>\n",
       "      <td>54m2, 1-br, cable tv, wi-fi, metro</td>\n",
       "      <td>Big 1-bedroom apartment that can accommodate 4...</td>\n",
       "    </tr>\n",
       "  </tbody>\n",
       "</table>\n",
       "</div>"
      ],
      "text/plain": [
       "      id                                          name  \\\n",
       "0  10595           96m2, 3BR, 2BA, Metro, WI-FI etc...   \n",
       "1  10990  Athens Quality Apartments - Deluxe Apartment   \n",
       "2  10993            Athens Quality Apartments - Studio   \n",
       "3  10995           47m2, close to metro,cable TV,wi-fi   \n",
       "4  27262            54m2, 1-br, cable tv, wi-fi, metro   \n",
       "\n",
       "                                         description  \n",
       "0  Athens Furnished Apartment No6 is 3-bedroom ap...  \n",
       "1  Athens Quality Apartments - Deluxe apartment i...  \n",
       "2  The Studio is an  -excellent located  -close t...  \n",
       "3  AQA No2 is 1-bedroom apartment (47m2)  -excell...  \n",
       "4  Big 1-bedroom apartment that can accommodate 4...  "
      ]
     },
     "metadata": {},
     "output_type": "display_data"
    }
   ],
   "source": [
    "from IPython.display import display\n",
    "\n",
    "# columns that we need\n",
    "columns = [ \"id\", \"name\", \"description\" ]\n",
    "# load the data set\n",
    "listings = pd.read_csv(\"../data_sets/listings.csv\", usecols = columns)\n",
    "\n",
    "# display the data set\n",
    "display(listings.shape, listings.head(5))"
   ]
  },
  {
   "cell_type": "markdown",
   "metadata": {},
   "source": [
    "#### Drop all rows that have any nan value"
   ]
  },
  {
   "cell_type": "code",
   "execution_count": 3,
   "metadata": {},
   "outputs": [
    {
     "data": {
      "text/plain": [
       "(11211, 3)"
      ]
     },
     "metadata": {},
     "output_type": "display_data"
    },
    {
     "data": {
      "text/html": [
       "<div>\n",
       "<style scoped>\n",
       "    .dataframe tbody tr th:only-of-type {\n",
       "        vertical-align: middle;\n",
       "    }\n",
       "\n",
       "    .dataframe tbody tr th {\n",
       "        vertical-align: top;\n",
       "    }\n",
       "\n",
       "    .dataframe thead th {\n",
       "        text-align: right;\n",
       "    }\n",
       "</style>\n",
       "<table border=\"1\" class=\"dataframe\">\n",
       "  <thead>\n",
       "    <tr style=\"text-align: right;\">\n",
       "      <th></th>\n",
       "      <th>id</th>\n",
       "      <th>name</th>\n",
       "      <th>description</th>\n",
       "    </tr>\n",
       "  </thead>\n",
       "  <tbody>\n",
       "    <tr>\n",
       "      <td>0</td>\n",
       "      <td>10595</td>\n",
       "      <td>96m2, 3BR, 2BA, Metro, WI-FI etc...</td>\n",
       "      <td>Athens Furnished Apartment No6 is 3-bedroom ap...</td>\n",
       "    </tr>\n",
       "    <tr>\n",
       "      <td>1</td>\n",
       "      <td>10990</td>\n",
       "      <td>Athens Quality Apartments - Deluxe Apartment</td>\n",
       "      <td>Athens Quality Apartments - Deluxe apartment i...</td>\n",
       "    </tr>\n",
       "    <tr>\n",
       "      <td>2</td>\n",
       "      <td>10993</td>\n",
       "      <td>Athens Quality Apartments - Studio</td>\n",
       "      <td>The Studio is an  -excellent located  -close t...</td>\n",
       "    </tr>\n",
       "    <tr>\n",
       "      <td>3</td>\n",
       "      <td>10995</td>\n",
       "      <td>47m2, close to metro,cable TV,wi-fi</td>\n",
       "      <td>AQA No2 is 1-bedroom apartment (47m2)  -excell...</td>\n",
       "    </tr>\n",
       "    <tr>\n",
       "      <td>4</td>\n",
       "      <td>27262</td>\n",
       "      <td>54m2, 1-br, cable tv, wi-fi, metro</td>\n",
       "      <td>Big 1-bedroom apartment that can accommodate 4...</td>\n",
       "    </tr>\n",
       "  </tbody>\n",
       "</table>\n",
       "</div>"
      ],
      "text/plain": [
       "      id                                          name  \\\n",
       "0  10595           96m2, 3BR, 2BA, Metro, WI-FI etc...   \n",
       "1  10990  Athens Quality Apartments - Deluxe Apartment   \n",
       "2  10993            Athens Quality Apartments - Studio   \n",
       "3  10995           47m2, close to metro,cable TV,wi-fi   \n",
       "4  27262            54m2, 1-br, cable tv, wi-fi, metro   \n",
       "\n",
       "                                         description  \n",
       "0  Athens Furnished Apartment No6 is 3-bedroom ap...  \n",
       "1  Athens Quality Apartments - Deluxe apartment i...  \n",
       "2  The Studio is an  -excellent located  -close t...  \n",
       "3  AQA No2 is 1-bedroom apartment (47m2)  -excell...  \n",
       "4  Big 1-bedroom apartment that can accommodate 4...  "
      ]
     },
     "metadata": {},
     "output_type": "display_data"
    }
   ],
   "source": [
    "# drop rows\n",
    "listings = listings.dropna()\n",
    "\n",
    "# display the data set\n",
    "display(listings.shape, listings.head(5))"
   ]
  },
  {
   "cell_type": "markdown",
   "metadata": {},
   "source": [
    "#### Concatenate name and description columns"
   ]
  },
  {
   "cell_type": "code",
   "execution_count": 4,
   "metadata": {},
   "outputs": [
    {
     "data": {
      "text/plain": [
       "(11211, 4)"
      ]
     },
     "metadata": {},
     "output_type": "display_data"
    },
    {
     "data": {
      "text/html": [
       "<div>\n",
       "<style scoped>\n",
       "    .dataframe tbody tr th:only-of-type {\n",
       "        vertical-align: middle;\n",
       "    }\n",
       "\n",
       "    .dataframe tbody tr th {\n",
       "        vertical-align: top;\n",
       "    }\n",
       "\n",
       "    .dataframe thead th {\n",
       "        text-align: right;\n",
       "    }\n",
       "</style>\n",
       "<table border=\"1\" class=\"dataframe\">\n",
       "  <thead>\n",
       "    <tr style=\"text-align: right;\">\n",
       "      <th></th>\n",
       "      <th>id</th>\n",
       "      <th>name</th>\n",
       "      <th>description</th>\n",
       "      <th>name_and_description</th>\n",
       "    </tr>\n",
       "  </thead>\n",
       "  <tbody>\n",
       "    <tr>\n",
       "      <td>0</td>\n",
       "      <td>10595</td>\n",
       "      <td>96m2, 3BR, 2BA, Metro, WI-FI etc...</td>\n",
       "      <td>Athens Furnished Apartment No6 is 3-bedroom ap...</td>\n",
       "      <td>96m2, 3BR, 2BA, Metro, WI-FI etc... Athens Fur...</td>\n",
       "    </tr>\n",
       "    <tr>\n",
       "      <td>1</td>\n",
       "      <td>10990</td>\n",
       "      <td>Athens Quality Apartments - Deluxe Apartment</td>\n",
       "      <td>Athens Quality Apartments - Deluxe apartment i...</td>\n",
       "      <td>Athens Quality Apartments - Deluxe Apartment A...</td>\n",
       "    </tr>\n",
       "    <tr>\n",
       "      <td>2</td>\n",
       "      <td>10993</td>\n",
       "      <td>Athens Quality Apartments - Studio</td>\n",
       "      <td>The Studio is an  -excellent located  -close t...</td>\n",
       "      <td>Athens Quality Apartments - Studio The Studio ...</td>\n",
       "    </tr>\n",
       "    <tr>\n",
       "      <td>3</td>\n",
       "      <td>10995</td>\n",
       "      <td>47m2, close to metro,cable TV,wi-fi</td>\n",
       "      <td>AQA No2 is 1-bedroom apartment (47m2)  -excell...</td>\n",
       "      <td>47m2, close to metro,cable TV,wi-fi AQA No2 is...</td>\n",
       "    </tr>\n",
       "    <tr>\n",
       "      <td>4</td>\n",
       "      <td>27262</td>\n",
       "      <td>54m2, 1-br, cable tv, wi-fi, metro</td>\n",
       "      <td>Big 1-bedroom apartment that can accommodate 4...</td>\n",
       "      <td>54m2, 1-br, cable tv, wi-fi, metro Big 1-bedro...</td>\n",
       "    </tr>\n",
       "  </tbody>\n",
       "</table>\n",
       "</div>"
      ],
      "text/plain": [
       "      id                                          name  \\\n",
       "0  10595           96m2, 3BR, 2BA, Metro, WI-FI etc...   \n",
       "1  10990  Athens Quality Apartments - Deluxe Apartment   \n",
       "2  10993            Athens Quality Apartments - Studio   \n",
       "3  10995           47m2, close to metro,cable TV,wi-fi   \n",
       "4  27262            54m2, 1-br, cable tv, wi-fi, metro   \n",
       "\n",
       "                                         description  \\\n",
       "0  Athens Furnished Apartment No6 is 3-bedroom ap...   \n",
       "1  Athens Quality Apartments - Deluxe apartment i...   \n",
       "2  The Studio is an  -excellent located  -close t...   \n",
       "3  AQA No2 is 1-bedroom apartment (47m2)  -excell...   \n",
       "4  Big 1-bedroom apartment that can accommodate 4...   \n",
       "\n",
       "                                name_and_description  \n",
       "0  96m2, 3BR, 2BA, Metro, WI-FI etc... Athens Fur...  \n",
       "1  Athens Quality Apartments - Deluxe Apartment A...  \n",
       "2  Athens Quality Apartments - Studio The Studio ...  \n",
       "3  47m2, close to metro,cable TV,wi-fi AQA No2 is...  \n",
       "4  54m2, 1-br, cable tv, wi-fi, metro Big 1-bedro...  "
      ]
     },
     "metadata": {},
     "output_type": "display_data"
    }
   ],
   "source": [
    "# concatenate name and description\n",
    "listings[\"name_and_description\"] = listings[\"name\"] + \" \" + listings[\"description\"]\n",
    "\n",
    "# display the data set\n",
    "display(listings.shape, listings.head(5))"
   ]
  },
  {
   "cell_type": "markdown",
   "metadata": {},
   "source": [
    "#### Preprocessing"
   ]
  },
  {
   "cell_type": "code",
   "execution_count": 5,
   "metadata": {},
   "outputs": [
    {
     "data": {
      "text/plain": [
       "(11211, 6)"
      ]
     },
     "metadata": {},
     "output_type": "display_data"
    },
    {
     "data": {
      "text/html": [
       "<div>\n",
       "<style scoped>\n",
       "    .dataframe tbody tr th:only-of-type {\n",
       "        vertical-align: middle;\n",
       "    }\n",
       "\n",
       "    .dataframe tbody tr th {\n",
       "        vertical-align: top;\n",
       "    }\n",
       "\n",
       "    .dataframe thead th {\n",
       "        text-align: right;\n",
       "    }\n",
       "</style>\n",
       "<table border=\"1\" class=\"dataframe\">\n",
       "  <thead>\n",
       "    <tr style=\"text-align: right;\">\n",
       "      <th></th>\n",
       "      <th>id</th>\n",
       "      <th>name</th>\n",
       "      <th>description</th>\n",
       "      <th>name_and_description</th>\n",
       "      <th>name_and_description_clean_stems_lemmas</th>\n",
       "      <th>name_and_description_clean_stems_lemmas_tokens</th>\n",
       "    </tr>\n",
       "  </thead>\n",
       "  <tbody>\n",
       "    <tr>\n",
       "      <td>0</td>\n",
       "      <td>10595</td>\n",
       "      <td>96m2, 3BR, 2BA, Metro, WI-FI etc...</td>\n",
       "      <td>Athens Furnished Apartment No6 is 3-bedroom ap...</td>\n",
       "      <td>96m2, 3BR, 2BA, Metro, WI-FI etc... Athens Fur...</td>\n",
       "      <td>br ba metro wifi etc furnish apart bedroom apa...</td>\n",
       "      <td>[br, ba, metro, wifi, etc, furnish, apart, bed...</td>\n",
       "    </tr>\n",
       "    <tr>\n",
       "      <td>1</td>\n",
       "      <td>10990</td>\n",
       "      <td>Athens Quality Apartments - Deluxe Apartment</td>\n",
       "      <td>Athens Quality Apartments - Deluxe apartment i...</td>\n",
       "      <td>Athens Quality Apartments - Deluxe Apartment A...</td>\n",
       "      <td>qualiti apart delux apart qualiti apart delux ...</td>\n",
       "      <td>[qualiti, apart, delux, apart, qualiti, apart,...</td>\n",
       "    </tr>\n",
       "    <tr>\n",
       "      <td>2</td>\n",
       "      <td>10993</td>\n",
       "      <td>Athens Quality Apartments - Studio</td>\n",
       "      <td>The Studio is an  -excellent located  -close t...</td>\n",
       "      <td>Athens Quality Apartments - Studio The Studio ...</td>\n",
       "      <td>qualiti apart studio studio excel close metro ...</td>\n",
       "      <td>[qualiti, apart, studio, studio, excel, close,...</td>\n",
       "    </tr>\n",
       "    <tr>\n",
       "      <td>3</td>\n",
       "      <td>10995</td>\n",
       "      <td>47m2, close to metro,cable TV,wi-fi</td>\n",
       "      <td>AQA No2 is 1-bedroom apartment (47m2)  -excell...</td>\n",
       "      <td>47m2, close to metro,cable TV,wi-fi AQA No2 is...</td>\n",
       "      <td>close metroc tvwifi aqa bedroom apart excel cl...</td>\n",
       "      <td>[close, metroc, tvwifi, aqa, bedroom, apart, e...</td>\n",
       "    </tr>\n",
       "    <tr>\n",
       "      <td>4</td>\n",
       "      <td>27262</td>\n",
       "      <td>54m2, 1-br, cable tv, wi-fi, metro</td>\n",
       "      <td>Big 1-bedroom apartment that can accommodate 4...</td>\n",
       "      <td>54m2, 1-br, cable tv, wi-fi, metro Big 1-bedro...</td>\n",
       "      <td>br cabl tv wifi metro big bedroom apart accomm...</td>\n",
       "      <td>[br, cabl, tv, wifi, metro, big, bedroom, apar...</td>\n",
       "    </tr>\n",
       "  </tbody>\n",
       "</table>\n",
       "</div>"
      ],
      "text/plain": [
       "      id                                          name  \\\n",
       "0  10595           96m2, 3BR, 2BA, Metro, WI-FI etc...   \n",
       "1  10990  Athens Quality Apartments - Deluxe Apartment   \n",
       "2  10993            Athens Quality Apartments - Studio   \n",
       "3  10995           47m2, close to metro,cable TV,wi-fi   \n",
       "4  27262            54m2, 1-br, cable tv, wi-fi, metro   \n",
       "\n",
       "                                         description  \\\n",
       "0  Athens Furnished Apartment No6 is 3-bedroom ap...   \n",
       "1  Athens Quality Apartments - Deluxe apartment i...   \n",
       "2  The Studio is an  -excellent located  -close t...   \n",
       "3  AQA No2 is 1-bedroom apartment (47m2)  -excell...   \n",
       "4  Big 1-bedroom apartment that can accommodate 4...   \n",
       "\n",
       "                                name_and_description  \\\n",
       "0  96m2, 3BR, 2BA, Metro, WI-FI etc... Athens Fur...   \n",
       "1  Athens Quality Apartments - Deluxe Apartment A...   \n",
       "2  Athens Quality Apartments - Studio The Studio ...   \n",
       "3  47m2, close to metro,cable TV,wi-fi AQA No2 is...   \n",
       "4  54m2, 1-br, cable tv, wi-fi, metro Big 1-bedro...   \n",
       "\n",
       "             name_and_description_clean_stems_lemmas  \\\n",
       "0  br ba metro wifi etc furnish apart bedroom apa...   \n",
       "1  qualiti apart delux apart qualiti apart delux ...   \n",
       "2  qualiti apart studio studio excel close metro ...   \n",
       "3  close metroc tvwifi aqa bedroom apart excel cl...   \n",
       "4  br cabl tv wifi metro big bedroom apart accomm...   \n",
       "\n",
       "      name_and_description_clean_stems_lemmas_tokens  \n",
       "0  [br, ba, metro, wifi, etc, furnish, apart, bed...  \n",
       "1  [qualiti, apart, delux, apart, qualiti, apart,...  \n",
       "2  [qualiti, apart, studio, studio, excel, close,...  \n",
       "3  [close, metroc, tvwifi, aqa, bedroom, apart, e...  \n",
       "4  [br, cabl, tv, wifi, metro, big, bedroom, apar...  "
      ]
     },
     "metadata": {},
     "output_type": "display_data"
    },
    {
     "name": "stdout",
     "output_type": "stream",
     "text": [
      "Time spent: 0:1:17\n"
     ]
    }
   ],
   "source": [
    "# include more stop words for better results\n",
    "more_stop_words = [\"και\",\"one\",\"athens\",\"house\",\"one\",\"fully\",\"located\",\"area\"]\n",
    "\n",
    "start_time = timer()\n",
    "\n",
    "# clean our data\n",
    "listings = clean_stem_lemmatize_tokens_column(listings, \"name_and_description\", more_stop_words, True)\n",
    "\n",
    "# display the data set\n",
    "display(listings.shape, listings.head(5))\n",
    "\n",
    "timer(start_time)"
   ]
  },
  {
   "cell_type": "markdown",
   "metadata": {},
   "source": [
    "#### TF-IDF (Term Frequency - Inverse Document Frequency)"
   ]
  },
  {
   "cell_type": "code",
   "execution_count": 6,
   "metadata": {},
   "outputs": [
    {
     "name": "stdout",
     "output_type": "stream",
     "text": [
      "Time spent: 0:3:26\n"
     ]
    }
   ],
   "source": [
    "from sklearn.feature_extraction.text import TfidfVectorizer\n",
    "\n",
    "start_time = timer()\n",
    "\n",
    "# calculate tf-idf for unigrams and bigrams\n",
    "tf_idf_vectorizer = TfidfVectorizer(ngram_range = (1, 2), stop_words=\"english\")\n",
    "tf_idf = tf_idf_vectorizer.fit_transform(listings[\"name_and_description_clean_stems_lemmas\"])\n",
    "\n",
    "from sklearn.metrics.pairwise import cosine_similarity\n",
    "\n",
    "# calculate cosine similarity for tf-idf arrays\n",
    "cosine = cosine_similarity(tf_idf, tf_idf)\n",
    "# hold only 2 digits\n",
    "for index_c, list_values in enumerate(cosine):\n",
    "    for index_d, dictance in enumerate(list_values):\n",
    "        cosine[index_c][index_d] = format(dictance, '.2f')\n",
    "        \n",
    "timer(start_time)"
   ]
  },
  {
   "cell_type": "markdown",
   "metadata": {},
   "source": [
    "#### Calculate top 100 most similar airbnbs"
   ]
  },
  {
   "cell_type": "code",
   "execution_count": 7,
   "metadata": {
    "scrolled": false
   },
   "outputs": [
    {
     "data": {
      "text/plain": [
       "'1: (27958734, 203174) : 1.0'"
      ]
     },
     "metadata": {},
     "output_type": "display_data"
    },
    {
     "data": {
      "text/plain": [
       "'2: (29786418, 5426236) : 1.0'"
      ]
     },
     "metadata": {},
     "output_type": "display_data"
    },
    {
     "data": {
      "text/plain": [
       "'3: (19646670, 6795028) : 1.0'"
      ]
     },
     "metadata": {},
     "output_type": "display_data"
    },
    {
     "data": {
      "text/plain": [
       "'4: (25778529, 6795028) : 1.0'"
      ]
     },
     "metadata": {},
     "output_type": "display_data"
    },
    {
     "data": {
      "text/plain": [
       "'5: (26617614, 6795028) : 1.0'"
      ]
     },
     "metadata": {},
     "output_type": "display_data"
    },
    {
     "data": {
      "text/plain": [
       "'6: (40422876, 6795028) : 1.0'"
      ]
     },
     "metadata": {},
     "output_type": "display_data"
    },
    {
     "data": {
      "text/plain": [
       "'7: (33764094, 8594460) : 1.0'"
      ]
     },
     "metadata": {},
     "output_type": "display_data"
    },
    {
     "data": {
      "text/plain": [
       "'8: (9548700, 9541663) : 1.0'"
      ]
     },
     "metadata": {},
     "output_type": "display_data"
    },
    {
     "data": {
      "text/plain": [
       "'9: (11403364, 11365978) : 1.0'"
      ]
     },
     "metadata": {},
     "output_type": "display_data"
    },
    {
     "data": {
      "text/plain": [
       "'10: (11402677, 11366771) : 1.0'"
      ]
     },
     "metadata": {},
     "output_type": "display_data"
    },
    {
     "data": {
      "text/plain": [
       "'11: (33840899, 11646666) : 1.0'"
      ]
     },
     "metadata": {},
     "output_type": "display_data"
    },
    {
     "data": {
      "text/plain": [
       "'12: (30793059, 11704139) : 1.0'"
      ]
     },
     "metadata": {},
     "output_type": "display_data"
    },
    {
     "data": {
      "text/plain": [
       "'13: (32437799, 11716595) : 1.0'"
      ]
     },
     "metadata": {},
     "output_type": "display_data"
    },
    {
     "data": {
      "text/plain": [
       "'14: (40910982, 11816352) : 1.0'"
      ]
     },
     "metadata": {},
     "output_type": "display_data"
    },
    {
     "data": {
      "text/plain": [
       "'15: (19374457, 13679827) : 1.0'"
      ]
     },
     "metadata": {},
     "output_type": "display_data"
    },
    {
     "data": {
      "text/plain": [
       "'16: (15226560, 15033500) : 1.0'"
      ]
     },
     "metadata": {},
     "output_type": "display_data"
    },
    {
     "data": {
      "text/plain": [
       "'17: (27774209, 15793210) : 1.0'"
      ]
     },
     "metadata": {},
     "output_type": "display_data"
    },
    {
     "data": {
      "text/plain": [
       "'18: (27918481, 18112699) : 1.0'"
      ]
     },
     "metadata": {},
     "output_type": "display_data"
    },
    {
     "data": {
      "text/plain": [
       "'19: (28132526, 18112699) : 1.0'"
      ]
     },
     "metadata": {},
     "output_type": "display_data"
    },
    {
     "data": {
      "text/plain": [
       "'20: (37487849, 19546148) : 1.0'"
      ]
     },
     "metadata": {},
     "output_type": "display_data"
    },
    {
     "data": {
      "text/plain": [
       "'21: (25778529, 19646670) : 1.0'"
      ]
     },
     "metadata": {},
     "output_type": "display_data"
    },
    {
     "data": {
      "text/plain": [
       "'22: (26617614, 19646670) : 1.0'"
      ]
     },
     "metadata": {},
     "output_type": "display_data"
    },
    {
     "data": {
      "text/plain": [
       "'23: (40422876, 19646670) : 1.0'"
      ]
     },
     "metadata": {},
     "output_type": "display_data"
    },
    {
     "data": {
      "text/plain": [
       "'24: (19683305, 19663089) : 1.0'"
      ]
     },
     "metadata": {},
     "output_type": "display_data"
    },
    {
     "data": {
      "text/plain": [
       "'25: (35362490, 19663089) : 1.0'"
      ]
     },
     "metadata": {},
     "output_type": "display_data"
    },
    {
     "data": {
      "text/plain": [
       "'26: (35432563, 19663089) : 1.0'"
      ]
     },
     "metadata": {},
     "output_type": "display_data"
    },
    {
     "data": {
      "text/plain": [
       "'27: (35362490, 19683305) : 1.0'"
      ]
     },
     "metadata": {},
     "output_type": "display_data"
    },
    {
     "data": {
      "text/plain": [
       "'28: (35432563, 19683305) : 1.0'"
      ]
     },
     "metadata": {},
     "output_type": "display_data"
    },
    {
     "data": {
      "text/plain": [
       "'29: (42019462, 20083273) : 1.0'"
      ]
     },
     "metadata": {},
     "output_type": "display_data"
    },
    {
     "data": {
      "text/plain": [
       "'30: (24878335, 20349967) : 1.0'"
      ]
     },
     "metadata": {},
     "output_type": "display_data"
    },
    {
     "data": {
      "text/plain": [
       "'31: (31693901, 20383968) : 1.0'"
      ]
     },
     "metadata": {},
     "output_type": "display_data"
    },
    {
     "data": {
      "text/plain": [
       "'32: (20692552, 20686418) : 1.0'"
      ]
     },
     "metadata": {},
     "output_type": "display_data"
    },
    {
     "data": {
      "text/plain": [
       "'33: (20704187, 20686418) : 1.0'"
      ]
     },
     "metadata": {},
     "output_type": "display_data"
    },
    {
     "data": {
      "text/plain": [
       "'34: (20705564, 20686418) : 1.0'"
      ]
     },
     "metadata": {},
     "output_type": "display_data"
    },
    {
     "data": {
      "text/plain": [
       "'35: (20706206, 20686418) : 1.0'"
      ]
     },
     "metadata": {},
     "output_type": "display_data"
    },
    {
     "data": {
      "text/plain": [
       "'36: (20707116, 20686418) : 1.0'"
      ]
     },
     "metadata": {},
     "output_type": "display_data"
    },
    {
     "data": {
      "text/plain": [
       "'37: (20704187, 20692552) : 1.0'"
      ]
     },
     "metadata": {},
     "output_type": "display_data"
    },
    {
     "data": {
      "text/plain": [
       "'38: (20705564, 20692552) : 1.0'"
      ]
     },
     "metadata": {},
     "output_type": "display_data"
    },
    {
     "data": {
      "text/plain": [
       "'39: (20706206, 20692552) : 1.0'"
      ]
     },
     "metadata": {},
     "output_type": "display_data"
    },
    {
     "data": {
      "text/plain": [
       "'40: (20707116, 20692552) : 1.0'"
      ]
     },
     "metadata": {},
     "output_type": "display_data"
    },
    {
     "data": {
      "text/plain": [
       "'41: (20705564, 20704187) : 1.0'"
      ]
     },
     "metadata": {},
     "output_type": "display_data"
    },
    {
     "data": {
      "text/plain": [
       "'42: (20706206, 20704187) : 1.0'"
      ]
     },
     "metadata": {},
     "output_type": "display_data"
    },
    {
     "data": {
      "text/plain": [
       "'43: (20707116, 20704187) : 1.0'"
      ]
     },
     "metadata": {},
     "output_type": "display_data"
    },
    {
     "data": {
      "text/plain": [
       "'44: (20706206, 20705564) : 1.0'"
      ]
     },
     "metadata": {},
     "output_type": "display_data"
    },
    {
     "data": {
      "text/plain": [
       "'45: (20707116, 20705564) : 1.0'"
      ]
     },
     "metadata": {},
     "output_type": "display_data"
    },
    {
     "data": {
      "text/plain": [
       "'46: (20707116, 20706206) : 1.0'"
      ]
     },
     "metadata": {},
     "output_type": "display_data"
    },
    {
     "data": {
      "text/plain": [
       "'47: (20708277, 20707394) : 1.0'"
      ]
     },
     "metadata": {},
     "output_type": "display_data"
    },
    {
     "data": {
      "text/plain": [
       "'48: (37106154, 22013976) : 1.0'"
      ]
     },
     "metadata": {},
     "output_type": "display_data"
    },
    {
     "data": {
      "text/plain": [
       "'49: (22171010, 22030136) : 1.0'"
      ]
     },
     "metadata": {},
     "output_type": "display_data"
    },
    {
     "data": {
      "text/plain": [
       "'50: (24201016, 22030136) : 1.0'"
      ]
     },
     "metadata": {},
     "output_type": "display_data"
    },
    {
     "data": {
      "text/plain": [
       "'51: (24202003, 22030136) : 1.0'"
      ]
     },
     "metadata": {},
     "output_type": "display_data"
    },
    {
     "data": {
      "text/plain": [
       "'52: (37048735, 22047314) : 1.0'"
      ]
     },
     "metadata": {},
     "output_type": "display_data"
    },
    {
     "data": {
      "text/plain": [
       "'53: (22074541, 22074163) : 1.0'"
      ]
     },
     "metadata": {},
     "output_type": "display_data"
    },
    {
     "data": {
      "text/plain": [
       "'54: (22074946, 22074774) : 1.0'"
      ]
     },
     "metadata": {},
     "output_type": "display_data"
    },
    {
     "data": {
      "text/plain": [
       "'55: (22075076, 22074774) : 1.0'"
      ]
     },
     "metadata": {},
     "output_type": "display_data"
    },
    {
     "data": {
      "text/plain": [
       "'56: (22075076, 22074946) : 1.0'"
      ]
     },
     "metadata": {},
     "output_type": "display_data"
    },
    {
     "data": {
      "text/plain": [
       "'57: (24201549, 22164074) : 1.0'"
      ]
     },
     "metadata": {},
     "output_type": "display_data"
    },
    {
     "data": {
      "text/plain": [
       "'58: (24201016, 22171010) : 1.0'"
      ]
     },
     "metadata": {},
     "output_type": "display_data"
    },
    {
     "data": {
      "text/plain": [
       "'59: (24202003, 22171010) : 1.0'"
      ]
     },
     "metadata": {},
     "output_type": "display_data"
    },
    {
     "data": {
      "text/plain": [
       "'60: (24214048, 22171981) : 1.0'"
      ]
     },
     "metadata": {},
     "output_type": "display_data"
    },
    {
     "data": {
      "text/plain": [
       "'61: (24214247, 22173279) : 1.0'"
      ]
     },
     "metadata": {},
     "output_type": "display_data"
    },
    {
     "data": {
      "text/plain": [
       "'62: (23554464, 23554220) : 1.0'"
      ]
     },
     "metadata": {},
     "output_type": "display_data"
    },
    {
     "data": {
      "text/plain": [
       "'63: (23554584, 23554220) : 1.0'"
      ]
     },
     "metadata": {},
     "output_type": "display_data"
    },
    {
     "data": {
      "text/plain": [
       "'64: (23554584, 23554464) : 1.0'"
      ]
     },
     "metadata": {},
     "output_type": "display_data"
    },
    {
     "data": {
      "text/plain": [
       "'65: (23943168, 23908316) : 1.0'"
      ]
     },
     "metadata": {},
     "output_type": "display_data"
    },
    {
     "data": {
      "text/plain": [
       "'66: (23943627, 23908316) : 1.0'"
      ]
     },
     "metadata": {},
     "output_type": "display_data"
    },
    {
     "data": {
      "text/plain": [
       "'67: (23943627, 23943168) : 1.0'"
      ]
     },
     "metadata": {},
     "output_type": "display_data"
    },
    {
     "data": {
      "text/plain": [
       "'68: (24202003, 24201016) : 1.0'"
      ]
     },
     "metadata": {},
     "output_type": "display_data"
    },
    {
     "data": {
      "text/plain": [
       "'69: (34699357, 24242835) : 1.0'"
      ]
     },
     "metadata": {},
     "output_type": "display_data"
    },
    {
     "data": {
      "text/plain": [
       "'70: (35103900, 24243325) : 1.0'"
      ]
     },
     "metadata": {},
     "output_type": "display_data"
    },
    {
     "data": {
      "text/plain": [
       "'71: (27448881, 24351998) : 1.0'"
      ]
     },
     "metadata": {},
     "output_type": "display_data"
    },
    {
     "data": {
      "text/plain": [
       "'72: (38635466, 24351998) : 1.0'"
      ]
     },
     "metadata": {},
     "output_type": "display_data"
    },
    {
     "data": {
      "text/plain": [
       "'73: (35101642, 24387622) : 1.0'"
      ]
     },
     "metadata": {},
     "output_type": "display_data"
    },
    {
     "data": {
      "text/plain": [
       "'74: (31066973, 24613722) : 1.0'"
      ]
     },
     "metadata": {},
     "output_type": "display_data"
    },
    {
     "data": {
      "text/plain": [
       "'75: (25207888, 25207595) : 1.0'"
      ]
     },
     "metadata": {},
     "output_type": "display_data"
    },
    {
     "data": {
      "text/plain": [
       "'76: (26118125, 25515948) : 1.0'"
      ]
     },
     "metadata": {},
     "output_type": "display_data"
    },
    {
     "data": {
      "text/plain": [
       "'77: (26118850, 25515948) : 1.0'"
      ]
     },
     "metadata": {},
     "output_type": "display_data"
    },
    {
     "data": {
      "text/plain": [
       "'78: (26617614, 25778529) : 1.0'"
      ]
     },
     "metadata": {},
     "output_type": "display_data"
    },
    {
     "data": {
      "text/plain": [
       "'79: (40422876, 25778529) : 1.0'"
      ]
     },
     "metadata": {},
     "output_type": "display_data"
    },
    {
     "data": {
      "text/plain": [
       "'80: (26118238, 26093644) : 1.0'"
      ]
     },
     "metadata": {},
     "output_type": "display_data"
    },
    {
     "data": {
      "text/plain": [
       "'81: (28639109, 26093644) : 1.0'"
      ]
     },
     "metadata": {},
     "output_type": "display_data"
    },
    {
     "data": {
      "text/plain": [
       "'82: (28639286, 26093644) : 1.0'"
      ]
     },
     "metadata": {},
     "output_type": "display_data"
    },
    {
     "data": {
      "text/plain": [
       "'83: (28715621, 26093644) : 1.0'"
      ]
     },
     "metadata": {},
     "output_type": "display_data"
    },
    {
     "data": {
      "text/plain": [
       "'84: (26117905, 26094355) : 1.0'"
      ]
     },
     "metadata": {},
     "output_type": "display_data"
    },
    {
     "data": {
      "text/plain": [
       "'85: (26118850, 26118125) : 1.0'"
      ]
     },
     "metadata": {},
     "output_type": "display_data"
    },
    {
     "data": {
      "text/plain": [
       "'86: (28639109, 26118238) : 1.0'"
      ]
     },
     "metadata": {},
     "output_type": "display_data"
    },
    {
     "data": {
      "text/plain": [
       "'87: (28639286, 26118238) : 1.0'"
      ]
     },
     "metadata": {},
     "output_type": "display_data"
    },
    {
     "data": {
      "text/plain": [
       "'88: (28715621, 26118238) : 1.0'"
      ]
     },
     "metadata": {},
     "output_type": "display_data"
    },
    {
     "data": {
      "text/plain": [
       "'89: (27282238, 26125014) : 1.0'"
      ]
     },
     "metadata": {},
     "output_type": "display_data"
    },
    {
     "data": {
      "text/plain": [
       "'90: (27686070, 26125014) : 1.0'"
      ]
     },
     "metadata": {},
     "output_type": "display_data"
    },
    {
     "data": {
      "text/plain": [
       "'91: (26237466, 26214131) : 1.0'"
      ]
     },
     "metadata": {},
     "output_type": "display_data"
    },
    {
     "data": {
      "text/plain": [
       "'92: (26237805, 26214131) : 1.0'"
      ]
     },
     "metadata": {},
     "output_type": "display_data"
    },
    {
     "data": {
      "text/plain": [
       "'93: (26237805, 26237466) : 1.0'"
      ]
     },
     "metadata": {},
     "output_type": "display_data"
    },
    {
     "data": {
      "text/plain": [
       "'94: (26620126, 26383438) : 1.0'"
      ]
     },
     "metadata": {},
     "output_type": "display_data"
    },
    {
     "data": {
      "text/plain": [
       "'95: (26402383, 26402249) : 1.0'"
      ]
     },
     "metadata": {},
     "output_type": "display_data"
    },
    {
     "data": {
      "text/plain": [
       "'96: (40422876, 26617614) : 1.0'"
      ]
     },
     "metadata": {},
     "output_type": "display_data"
    },
    {
     "data": {
      "text/plain": [
       "'97: (27621026, 27226394) : 1.0'"
      ]
     },
     "metadata": {},
     "output_type": "display_data"
    },
    {
     "data": {
      "text/plain": [
       "'98: (42421700, 27226394) : 1.0'"
      ]
     },
     "metadata": {},
     "output_type": "display_data"
    },
    {
     "data": {
      "text/plain": [
       "'99: (35825418, 27256671) : 1.0'"
      ]
     },
     "metadata": {},
     "output_type": "display_data"
    },
    {
     "data": {
      "text/plain": [
       "'100: (27686070, 27282238) : 1.0'"
      ]
     },
     "metadata": {},
     "output_type": "display_data"
    },
    {
     "name": "stdout",
     "output_type": "stream",
     "text": [
      "Time spent: 0:2:16\n"
     ]
    }
   ],
   "source": [
    "start_time = timer()\n",
    "\n",
    "top_100 = {}\n",
    "\n",
    "# get id list\n",
    "id_keys = listings[\"id\"].tolist()\n",
    "for index, list_values in enumerate(cosine):\n",
    "    # using map() + lamba associate current id in list\n",
    "    result = list(map(lambda i: (i, id_keys[index]), id_keys))\n",
    "    # make sure that we don't push {(ID_A,ID_B): SCORE} AND {(ID_B,ID_A): SCORE}\n",
    "    for index_r, (id_a, id_b) in enumerate(result):\n",
    "        if id_a < id_b:\n",
    "            result[index_r] = (id_b,id_a)\n",
    "    # update dictionary\n",
    "    top_100.update(dict(zip(result, list_values)))\n",
    "    # remove diagnal value: SAME ID\n",
    "    del top_100[(id_keys[index],id_keys[index])]\n",
    "    # sort dictionary\n",
    "    top_100 = sorted(top_100.items(), key=lambda x: x[1],reverse=True)\n",
    "    # store 100 most matched ids\n",
    "    top_100 = top_100[:100]\n",
    "    # list of tuples to dictionary\n",
    "    top_100 = dict(top_100)\n",
    "\n",
    "# display top 100 similar id pairs\n",
    "for index, pair in enumerate(top_100,start=1):\n",
    "    display(f\"{index}: {pair} : {top_100[pair]}\")\n",
    "    \n",
    "timer(start_time)"
   ]
  },
  {
   "cell_type": "markdown",
   "metadata": {},
   "source": [
    "#### Create new column and store 100 most similar airbnbs for one"
   ]
  },
  {
   "cell_type": "code",
   "execution_count": 8,
   "metadata": {},
   "outputs": [
    {
     "data": {
      "text/plain": [
       "(11211, 7)"
      ]
     },
     "metadata": {},
     "output_type": "display_data"
    },
    {
     "data": {
      "text/html": [
       "<div>\n",
       "<style scoped>\n",
       "    .dataframe tbody tr th:only-of-type {\n",
       "        vertical-align: middle;\n",
       "    }\n",
       "\n",
       "    .dataframe tbody tr th {\n",
       "        vertical-align: top;\n",
       "    }\n",
       "\n",
       "    .dataframe thead th {\n",
       "        text-align: right;\n",
       "    }\n",
       "</style>\n",
       "<table border=\"1\" class=\"dataframe\">\n",
       "  <thead>\n",
       "    <tr style=\"text-align: right;\">\n",
       "      <th></th>\n",
       "      <th>id</th>\n",
       "      <th>name</th>\n",
       "      <th>description</th>\n",
       "      <th>name_and_description</th>\n",
       "      <th>name_and_description_clean_stems_lemmas</th>\n",
       "      <th>name_and_description_clean_stems_lemmas_tokens</th>\n",
       "      <th>dictionary</th>\n",
       "    </tr>\n",
       "  </thead>\n",
       "  <tbody>\n",
       "    <tr>\n",
       "      <td>0</td>\n",
       "      <td>10595</td>\n",
       "      <td>96m2, 3BR, 2BA, Metro, WI-FI etc...</td>\n",
       "      <td>Athens Furnished Apartment No6 is 3-bedroom ap...</td>\n",
       "      <td>96m2, 3BR, 2BA, Metro, WI-FI etc... Athens Fur...</td>\n",
       "      <td>br ba metro wifi etc furnish apart bedroom apa...</td>\n",
       "      <td>[br, ba, metro, wifi, etc, furnish, apart, bed...</td>\n",
       "      <td>{10990: 0.66, 10995: 0.63, 10993: 0.43, 265509...</td>\n",
       "    </tr>\n",
       "    <tr>\n",
       "      <td>1</td>\n",
       "      <td>10990</td>\n",
       "      <td>Athens Quality Apartments - Deluxe Apartment</td>\n",
       "      <td>Athens Quality Apartments - Deluxe apartment i...</td>\n",
       "      <td>Athens Quality Apartments - Deluxe Apartment A...</td>\n",
       "      <td>qualiti apart delux apart qualiti apart delux ...</td>\n",
       "      <td>[qualiti, apart, delux, apart, qualiti, apart,...</td>\n",
       "      <td>{10995: 0.76, 10595: 0.66, 10993: 0.55, 265509...</td>\n",
       "    </tr>\n",
       "    <tr>\n",
       "      <td>2</td>\n",
       "      <td>10993</td>\n",
       "      <td>Athens Quality Apartments - Studio</td>\n",
       "      <td>The Studio is an  -excellent located  -close t...</td>\n",
       "      <td>Athens Quality Apartments - Studio The Studio ...</td>\n",
       "      <td>qualiti apart studio studio excel close metro ...</td>\n",
       "      <td>[qualiti, apart, studio, studio, excel, close,...</td>\n",
       "      <td>{10995: 0.57, 10990: 0.55, 10595: 0.43, 265509...</td>\n",
       "    </tr>\n",
       "    <tr>\n",
       "      <td>3</td>\n",
       "      <td>10995</td>\n",
       "      <td>47m2, close to metro,cable TV,wi-fi</td>\n",
       "      <td>AQA No2 is 1-bedroom apartment (47m2)  -excell...</td>\n",
       "      <td>47m2, close to metro,cable TV,wi-fi AQA No2 is...</td>\n",
       "      <td>close metroc tvwifi aqa bedroom apart excel cl...</td>\n",
       "      <td>[close, metroc, tvwifi, aqa, bedroom, apart, e...</td>\n",
       "      <td>{10990: 0.76, 10595: 0.63, 10993: 0.57, 265509...</td>\n",
       "    </tr>\n",
       "    <tr>\n",
       "      <td>4</td>\n",
       "      <td>27262</td>\n",
       "      <td>54m2, 1-br, cable tv, wi-fi, metro</td>\n",
       "      <td>Big 1-bedroom apartment that can accommodate 4...</td>\n",
       "      <td>54m2, 1-br, cable tv, wi-fi, metro Big 1-bedro...</td>\n",
       "      <td>br cabl tv wifi metro big bedroom apart accomm...</td>\n",
       "      <td>[br, cabl, tv, wifi, metro, big, bedroom, apar...</td>\n",
       "      <td>{2655090: 0.25, 35401022: 0.13, 13820241: 0.12...</td>\n",
       "    </tr>\n",
       "  </tbody>\n",
       "</table>\n",
       "</div>"
      ],
      "text/plain": [
       "      id                                          name  \\\n",
       "0  10595           96m2, 3BR, 2BA, Metro, WI-FI etc...   \n",
       "1  10990  Athens Quality Apartments - Deluxe Apartment   \n",
       "2  10993            Athens Quality Apartments - Studio   \n",
       "3  10995           47m2, close to metro,cable TV,wi-fi   \n",
       "4  27262            54m2, 1-br, cable tv, wi-fi, metro   \n",
       "\n",
       "                                         description  \\\n",
       "0  Athens Furnished Apartment No6 is 3-bedroom ap...   \n",
       "1  Athens Quality Apartments - Deluxe apartment i...   \n",
       "2  The Studio is an  -excellent located  -close t...   \n",
       "3  AQA No2 is 1-bedroom apartment (47m2)  -excell...   \n",
       "4  Big 1-bedroom apartment that can accommodate 4...   \n",
       "\n",
       "                                name_and_description  \\\n",
       "0  96m2, 3BR, 2BA, Metro, WI-FI etc... Athens Fur...   \n",
       "1  Athens Quality Apartments - Deluxe Apartment A...   \n",
       "2  Athens Quality Apartments - Studio The Studio ...   \n",
       "3  47m2, close to metro,cable TV,wi-fi AQA No2 is...   \n",
       "4  54m2, 1-br, cable tv, wi-fi, metro Big 1-bedro...   \n",
       "\n",
       "             name_and_description_clean_stems_lemmas  \\\n",
       "0  br ba metro wifi etc furnish apart bedroom apa...   \n",
       "1  qualiti apart delux apart qualiti apart delux ...   \n",
       "2  qualiti apart studio studio excel close metro ...   \n",
       "3  close metroc tvwifi aqa bedroom apart excel cl...   \n",
       "4  br cabl tv wifi metro big bedroom apart accomm...   \n",
       "\n",
       "      name_and_description_clean_stems_lemmas_tokens  \\\n",
       "0  [br, ba, metro, wifi, etc, furnish, apart, bed...   \n",
       "1  [qualiti, apart, delux, apart, qualiti, apart,...   \n",
       "2  [qualiti, apart, studio, studio, excel, close,...   \n",
       "3  [close, metroc, tvwifi, aqa, bedroom, apart, e...   \n",
       "4  [br, cabl, tv, wifi, metro, big, bedroom, apar...   \n",
       "\n",
       "                                          dictionary  \n",
       "0  {10990: 0.66, 10995: 0.63, 10993: 0.43, 265509...  \n",
       "1  {10995: 0.76, 10595: 0.66, 10993: 0.55, 265509...  \n",
       "2  {10995: 0.57, 10990: 0.55, 10595: 0.43, 265509...  \n",
       "3  {10990: 0.76, 10595: 0.63, 10993: 0.57, 265509...  \n",
       "4  {2655090: 0.25, 35401022: 0.13, 13820241: 0.12...  "
      ]
     },
     "metadata": {},
     "output_type": "display_data"
    },
    {
     "name": "stdout",
     "output_type": "stream",
     "text": [
      "Time spent: 0:1:3\n"
     ]
    }
   ],
   "source": [
    "start_time = timer()\n",
    "\n",
    "dictionaries = []\n",
    "# get id list\n",
    "id_keys = listings[\"id\"].tolist()\n",
    "for index, list_values in enumerate(cosine):\n",
    "    # create dictionary\n",
    "    dictionary = dict(zip(id_keys, list_values))\n",
    "    # remove dignal value: SAME ID\n",
    "    del dictionary[id_keys[index]]\n",
    "    # sort dictionary\n",
    "    dictionary = sorted(dictionary.items(), key=lambda x: x[1],reverse=True)\n",
    "    # store first 100 recommendations\n",
    "    dictionary = dictionary[:100]\n",
    "    # list of tuples to dictionary\n",
    "    dictionary = dict(dictionary)\n",
    "    dictionaries.append(dictionary)\n",
    "\n",
    "# save dictionaries as new column\n",
    "listings[\"dictionary\"] = dictionaries\n",
    "# display the data set\n",
    "display(listings.shape, listings.head(5))\n",
    "\n",
    "timer(start_time)"
   ]
  },
  {
   "cell_type": "markdown",
   "metadata": {},
   "source": [
    "#### Recommend function\n",
    "\n",
    "We stored above 100 most similar airbnbs for each one. Now we can use our recommend function and accomplish linear time."
   ]
  },
  {
   "cell_type": "code",
   "execution_count": 13,
   "metadata": {},
   "outputs": [
    {
     "name": "stdout",
     "output_type": "stream",
     "text": [
      "Recommending 1 listings similar to 27958734\n",
      "---------------------------------------------------------\n",
      "Id: 203174\n",
      "Recommended: Athen downtown New Private Bedroom 42\n",
      "Description: This is a room in apartment where I don't live :)) 1. The room: This bedroom has a double large bed, 2 nightstand, mirror, TV, studio, large closet, access to balcony,TV,heater,WI-FI access (high). Wash and dry (5 euro) 2 . Location: - buss station, metro station(Omonoia and Metaxourgeio), you are conected with all areas in Athens.  - Central train station ( Larisa ), is 10/15 min. walking destination :  From Larisa station you can also take a train to all the major cities of Greece (Thessaloniki) as well as some cities outside the country, such as Bulgaria, Turkey, you can use ( InterRail).  - grocery store, bakery, super-market, greek traditional restaurants, tavernas, fast-food,cafes, banks and pharmacies .  - Acropolis-20 min walking  - Thissio - 15 min walking  - Monastiraki (the ancient market), 10 min walking  - Plaka (is called the neighborhood of gods where are all greek tavernas and restaurants), 3 metro stations  - Gazi (all clubs and night life is there), 2 metro stations  \n",
      "(score: 1.0)\n",
      "\n",
      "Recommending 2 listings similar to 27686070\n",
      "---------------------------------------------------------\n",
      "Id: 26125014\n",
      "Recommended: Greece U Around Athens Thissio Suites No. 5\n",
      "Description: No. 5 is a newly renovated apartment on the second floor of the building. It is 70 sq. meters (753 sq. feet) and consists of the living room with an open space fully equipped kitchen, the secondary bedroom with two single beds that can be made as a double bed, the master bedroom equipped with a double bed and an en suite bathroom, and the secondary bathroom. It also has a balcony overlooking the street and offers access to the shared terrace. The building is ideally situated just below the Hill of Nymphs and the National Observatory, just 600 meters away from the Ancient Agora, 400 meters away from Gazi - Kerameikos area, on a street which offers the unique feeling of quiet neighborhoods of old Athens, yet close enough to all tourist attractions as well as plenty of bars and restaurants.  The apartment No. 5 is ideal for families or friends traveling together.  It also has access to the shared terrace which offers 360 views to the city and is the ideal place to relax after a long day's\n",
      "(score: 1.0)\n",
      "\n",
      "Id: 27282238\n",
      "Recommended: Greece U Around Athens Thissio Suites No. 1\n",
      "Description: No. 5 is a newly renovated apartment on the second floor of the building. It is 70 sq. meters (753 sq. feet) and consists of the living room with an open space fully equipped kitchen, the secondary bedroom with two single beds that can be made as a double bed, the master bedroom equipped with a double bed and an en suite bathroom, and the secondary bathroom. It also has a balcony overlooking the street and offers access to the shared terrace. The building is ideally situated just below the Hill of Nymphs and the National Observatory, just 600 meters away from the Ancient Agora, 400 meters away from Gazi - Kerameikos area, on a street which offers the unique feeling of quiet neighborhoods of old Athens, yet close enough to all tourist attractions as well as plenty of bars and restaurants.  The apartment No. 5 is ideal for families or friends traveling together.  It also has access to the shared terrace which offers 360 views to the city and is the ideal place to relax after a long day's\n",
      "(score: 1.0)\n",
      "\n"
     ]
    }
   ],
   "source": [
    "from itertools import islice\n",
    "\n",
    "\"\"\"\n",
    "recommend: returns N most similar airbnbs\n",
    "                        \n",
    "arguments:\n",
    "    dataframe                : pandas dataframe\n",
    "    item_id                  : int\n",
    "    number_of_recommendations: int\n",
    "\"\"\"\n",
    "def recommend(dataframe, item_id, number_of_recommendations):\n",
    "    # get row by id\n",
    "    row = dataframe.loc[dataframe[\"id\"] == item_id]\n",
    "    # check if id exists in dataframe\n",
    "    if len(row.index) == 0:\n",
    "        display(f\"Id '{item_id}' not found\")\n",
    "        return\n",
    "    # get dictionary\n",
    "    dictionary = row.iloc[0][\"dictionary\"]\n",
    "    # get N first recommendations\n",
    "    recommendations = list(islice(dictionary.items(), number_of_recommendations))\n",
    "    print(f\"Recommending {number_of_recommendations} listings similar to {item_id}\")\n",
    "    print(\"---------------------------------------------------------\")\n",
    "    # print all recommendations\n",
    "    for l_id, score in recommendations:\n",
    "        # get row by id\n",
    "        row = dataframe.loc[dataframe[\"id\"] == l_id]\n",
    "        print(f\"Id: {row.iloc[0]['id']}\")\n",
    "        print(f\"Recommended: {row.iloc[0]['name']}\")\n",
    "        print(f\"Description: {row.iloc[0]['description']}\")\n",
    "        print(f\"(score: {score})\\n\")\n",
    "\n",
    "# test recommend() function\n",
    "recommend(listings,27958734,1)\n",
    "recommend(listings,27686070,2)"
   ]
  },
  {
   "cell_type": "markdown",
   "metadata": {},
   "source": [
    "#### 10 words that often appear together"
   ]
  },
  {
   "cell_type": "code",
   "execution_count": 10,
   "metadata": {
    "scrolled": true
   },
   "outputs": [
    {
     "data": {
      "text/plain": [
       "'1: metro station'"
      ]
     },
     "metadata": {},
     "output_type": "display_data"
    },
    {
     "data": {
      "text/plain": [
       "'2: live room'"
      ]
     },
     "metadata": {},
     "output_type": "display_data"
    },
    {
     "data": {
      "text/plain": [
       "'3: walk distanc'"
      ]
     },
     "metadata": {},
     "output_type": "display_data"
    },
    {
     "data": {
      "text/plain": [
       "'4: doubl bed'"
      ]
     },
     "metadata": {},
     "output_type": "display_data"
    },
    {
     "data": {
      "text/plain": [
       "'5: minut walk'"
      ]
     },
     "metadata": {},
     "output_type": "display_data"
    },
    {
     "data": {
      "text/plain": [
       "'6: air condit'"
      ]
     },
     "metadata": {},
     "output_type": "display_data"
    },
    {
     "data": {
      "text/plain": [
       "'7: hidden airbnb'"
      ]
     },
     "metadata": {},
     "output_type": "display_data"
    },
    {
     "data": {
      "text/plain": [
       "'8: wash machin'"
      ]
     },
     "metadata": {},
     "output_type": "display_data"
    },
    {
     "data": {
      "text/plain": [
       "'9: equip kitchen'"
      ]
     },
     "metadata": {},
     "output_type": "display_data"
    },
    {
     "data": {
      "text/plain": [
       "'10: brand new'"
      ]
     },
     "metadata": {},
     "output_type": "display_data"
    }
   ],
   "source": [
    "import nltk\n",
    "from nltk.metrics import BigramAssocMeasures\n",
    "from nltk.collocations import BigramCollocationFinder\n",
    "\n",
    "tokens = []\n",
    "# concatenate all tokens\n",
    "for index, row in listings.iterrows():\n",
    "    for token in listings.loc[index, \"name_and_description_clean_stems_lemmas_tokens\"]:\n",
    "        tokens.append(token)\n",
    "# bigram measurement\n",
    "bigram_measures = nltk.collocations.BigramAssocMeasures()\n",
    "finder = BigramCollocationFinder.from_words(tokens)\n",
    "# find 10 words that often appear together\n",
    "scored = finder.nbest(bigram_measures.likelihood_ratio, 10)\n",
    "# display 10 most frequenctly pair of words\n",
    "for index,(word_a, word_b) in enumerate(scored,start=1):\n",
    "    display(f\"{index}: {word_a} {word_b}\")"
   ]
  }
 ],
 "metadata": {
  "kernelspec": {
   "display_name": "Python 3",
   "language": "python",
   "name": "python3"
  },
  "language_info": {
   "codemirror_mode": {
    "name": "ipython",
    "version": 3
   },
   "file_extension": ".py",
   "mimetype": "text/x-python",
   "name": "python",
   "nbconvert_exporter": "python",
   "pygments_lexer": "ipython3",
   "version": "3.7.4"
  }
 },
 "nbformat": 4,
 "nbformat_minor": 2
}
